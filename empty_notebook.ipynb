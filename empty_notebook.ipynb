{
 "cells": [
  {
   "cell_type": "markdown",
   "metadata": {},
   "source": [
    "<font face='Verdana' size=2 color='#3c3c3c'>\n",
    "<img src='python-logo-master-v3-TM.png'></img>\n",
    "<h1> Python Introduction </h1>\n",
    "<h4> The Basics </h4>\n",
    "<ul>\n",
    "    <li> Environment </li>\n",
    "    <li> Markdown </li>\n",
    "    <li> Importing Modules </li>\n",
    "    <ul><li>Pandas</li>\n",
    "        <li>Matplotlib</li>\n",
    "        <li>Seaborn</li>\n",
    "        <li>sklearn</li>\n",
    "    </ul>\n",
    "    </ul>"
   ]
  },
  {
   "cell_type": "markdown",
   "metadata": {},
   "source": []
  },
  {
   "cell_type": "markdown",
   "metadata": {},
   "source": [
    "<font face='Verdana' size=2 color='#3c3c3c'>\n",
    "<h4> Importing Data </h4>\n",
    "<ul>\n",
    "    <li> Importing CSV </li>\n",
    "    <li> Other data types </li>\n",
    "    <li> Other data sources </li>\n",
    "    <ul><li> Pyathena, PyODBC, SQLAlchemy, requests, Selenium </li>"
   ]
  },
  {
   "cell_type": "code",
   "execution_count": null,
   "metadata": {},
   "outputs": [],
   "source": []
  },
  {
   "cell_type": "markdown",
   "metadata": {},
   "source": [
    "<font face='Verdana' size=2 color='#3c3c3c'>\n",
    "<h4> Basic stats </h4>\n",
    "<ul><li> Shape </li>\n",
    "    <li> DataFrames </li>\n",
    "    <li> Head, Tail</li></ul>"
   ]
  },
  {
   "cell_type": "markdown",
   "metadata": {},
   "source": [
    "<font face='Verdana' size=2 color='#3c3c3c'>\n",
    "<h4> Data Cleanse </h4>\n",
    "<ul><li> Impute nulls </li></ul>"
   ]
  },
  {
   "cell_type": "markdown",
   "metadata": {},
   "source": [
    "<font face='Verdana' size=2 color='#3c3c3c'>\n",
    "<h4> Explore the data </h4>\n",
    "<ul><li> Grouping </li>\n",
    "    <li> Pivots </li>\n",
    "    <li> Matplotlib </li>\n",
    "    <ul><li> Bar plots </li>\n",
    "        <li> Histogram </li>\n",
    "        <li> Heatmap </li>\n",
    "    </ul>"
   ]
  },
  {
   "cell_type": "markdown",
   "metadata": {},
   "source": [
    "<font face='Verdana' size=2 color='#3c3c3c'>\n",
    "<h4> Feature Engineering </h4>\n",
    "<ul><li> Cutting continuous to categorical </li>\n",
    "    <li> Dropping unusable columns </li>\n"
   ]
  },
  {
   "cell_type": "markdown",
   "metadata": {},
   "source": [
    "<font face='Verdana' size=2 color='#3c3c3c'>\n",
    "<h4> Machine Learning </h4>\n",
    "<ul><li> Sparsify categorical </li>\n",
    "    <li> Remove labels / train, test split </li>\n",
    "    <li> Train </li>\n",
    "    <li> Check performance, confusion matrix </li>\n"
   ]
  },
  {
   "cell_type": "code",
   "execution_count": null,
   "metadata": {},
   "outputs": [],
   "source": []
  }
 ],
 "metadata": {
  "kernelspec": {
   "display_name": "Python 3",
   "language": "python",
   "name": "python3"
  },
  "language_info": {
   "codemirror_mode": {
    "name": "ipython",
    "version": 3
   },
   "file_extension": ".py",
   "mimetype": "text/x-python",
   "name": "python",
   "nbconvert_exporter": "python",
   "pygments_lexer": "ipython3",
   "version": "3.7.1"
  }
 },
 "nbformat": 4,
 "nbformat_minor": 2
}
